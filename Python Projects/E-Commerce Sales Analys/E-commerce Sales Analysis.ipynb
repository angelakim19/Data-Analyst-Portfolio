{
 "cells": [
  {
   "cell_type": "markdown",
   "id": "591fa2df-7151-451d-8583-d94bd1db3be5",
   "metadata": {},
   "source": [
    "## E-commerce Sales Analysis\n",
    "\n",
    "This project analyzes e-commerce sales data to uncover insights about total revenue, best-selling products, and monthly sales performance. Using Python, i clean the dataset, create new features, and visualize trends to support data-driven business decisions."
   ]
  },
  {
   "cell_type": "code",
   "execution_count": 2,
   "id": "ccf79477-9176-4664-a21a-7b6954fd7341",
   "metadata": {},
   "outputs": [],
   "source": [
    "#Importing Libraries\n",
    "import pandas as pd\n",
    "import matplotlib.pyplot as plt\n",
    "import seaborn as sns\n",
    "\n",
    "#Load the CSV file\n",
    "df = pd.read_csv(r\"C:\\Users\\ACER\\Downloads\\Data Analytics\\Python\\Project\\Dataset\\sales_data.csv\")"
   ]
  },
  {
   "cell_type": "code",
   "execution_count": 4,
   "id": "d079dd5d-4c73-4e7b-853c-c42e2deb9e92",
   "metadata": {},
   "outputs": [
    {
     "data": {
      "text/html": [
       "<div>\n",
       "<style scoped>\n",
       "    .dataframe tbody tr th:only-of-type {\n",
       "        vertical-align: middle;\n",
       "    }\n",
       "\n",
       "    .dataframe tbody tr th {\n",
       "        vertical-align: top;\n",
       "    }\n",
       "\n",
       "    .dataframe thead th {\n",
       "        text-align: right;\n",
       "    }\n",
       "</style>\n",
       "<table border=\"1\" class=\"dataframe\">\n",
       "  <thead>\n",
       "    <tr style=\"text-align: right;\">\n",
       "      <th></th>\n",
       "      <th>Order ID</th>\n",
       "      <th>Order Date</th>\n",
       "      <th>Customer Name</th>\n",
       "      <th>Product</th>\n",
       "      <th>Quantity Ordered</th>\n",
       "      <th>Price Each</th>\n",
       "      <th>Phone Number</th>\n",
       "    </tr>\n",
       "  </thead>\n",
       "  <tbody>\n",
       "    <tr>\n",
       "      <th>0</th>\n",
       "      <td>1001</td>\n",
       "      <td>2023-01-15</td>\n",
       "      <td>Alice Smith</td>\n",
       "      <td>Laptop</td>\n",
       "      <td>1</td>\n",
       "      <td>1200.0</td>\n",
       "      <td>(123) 456-7890</td>\n",
       "    </tr>\n",
       "    <tr>\n",
       "      <th>1</th>\n",
       "      <td>1002</td>\n",
       "      <td>2023-02-03</td>\n",
       "      <td>Bob Johnson</td>\n",
       "      <td>Monitor</td>\n",
       "      <td>2</td>\n",
       "      <td>300.0</td>\n",
       "      <td>Na--9876543210</td>\n",
       "    </tr>\n",
       "    <tr>\n",
       "      <th>2</th>\n",
       "      <td>1003</td>\n",
       "      <td>2023-02-20</td>\n",
       "      <td>Carlos Diaz</td>\n",
       "      <td>Keyboard</td>\n",
       "      <td>3</td>\n",
       "      <td>50.0</td>\n",
       "      <td>nan--1234567890</td>\n",
       "    </tr>\n",
       "    <tr>\n",
       "      <th>3</th>\n",
       "      <td>1004</td>\n",
       "      <td>2023-03-05</td>\n",
       "      <td>Diana Lee</td>\n",
       "      <td>Laptop</td>\n",
       "      <td>1</td>\n",
       "      <td>1200.0</td>\n",
       "      <td>123.456.7890</td>\n",
       "    </tr>\n",
       "    <tr>\n",
       "      <th>4</th>\n",
       "      <td>1005</td>\n",
       "      <td>2023-03-18</td>\n",
       "      <td>Eli Brown</td>\n",
       "      <td>Mouse</td>\n",
       "      <td>2</td>\n",
       "      <td>25.0</td>\n",
       "      <td>321_654_9870</td>\n",
       "    </tr>\n",
       "  </tbody>\n",
       "</table>\n",
       "</div>"
      ],
      "text/plain": [
       "   Order ID  Order Date Customer Name   Product  Quantity Ordered  Price Each  \\\n",
       "0      1001  2023-01-15   Alice Smith    Laptop                 1      1200.0   \n",
       "1      1002  2023-02-03   Bob Johnson   Monitor                 2       300.0   \n",
       "2      1003  2023-02-20   Carlos Diaz  Keyboard                 3        50.0   \n",
       "3      1004  2023-03-05     Diana Lee    Laptop                 1      1200.0   \n",
       "4      1005  2023-03-18     Eli Brown     Mouse                 2        25.0   \n",
       "\n",
       "      Phone Number  \n",
       "0   (123) 456-7890  \n",
       "1   Na--9876543210  \n",
       "2  nan--1234567890  \n",
       "3     123.456.7890  \n",
       "4     321_654_9870  "
      ]
     },
     "execution_count": 4,
     "metadata": {},
     "output_type": "execute_result"
    }
   ],
   "source": [
    "# Preview the first 5 rows\n",
    "df.head()"
   ]
  },
  {
   "cell_type": "markdown",
   "id": "f96f7978-60f6-4256-91a4-d2b873b91a1e",
   "metadata": {},
   "source": [
    "__Data Cleaning__"
   ]
  },
  {
   "cell_type": "code",
   "execution_count": 7,
   "id": "7e693c72-3670-41de-8483-6d62396011bf",
   "metadata": {},
   "outputs": [
    {
     "data": {
      "text/plain": [
       "Order ID            0\n",
       "Order Date          0\n",
       "Customer Name       0\n",
       "Product             0\n",
       "Quantity Ordered    0\n",
       "Price Each          0\n",
       "Phone Number        0\n",
       "dtype: int64"
      ]
     },
     "execution_count": 7,
     "metadata": {},
     "output_type": "execute_result"
    }
   ],
   "source": [
    "# Check for missing values\n",
    "df.isnull().sum()"
   ]
  },
  {
   "cell_type": "code",
   "execution_count": 11,
   "id": "f35f7dfc-f6fa-4f42-965a-06c9e66ca385",
   "metadata": {},
   "outputs": [],
   "source": [
    "# Remove rows with missing values\n",
    "df = df.dropna()"
   ]
  },
  {
   "cell_type": "code",
   "execution_count": 13,
   "id": "f302ff9a-2e11-4ad4-aabe-4f0208bd82bc",
   "metadata": {},
   "outputs": [],
   "source": [
    "# Convert the 'Order Date' column to datetime format\n",
    "df[\"Order Date\"] = pd.to_datetime(df[\"Order Date\"])"
   ]
  },
  {
   "cell_type": "code",
   "execution_count": 15,
   "id": "25c9566d-5b65-4e47-9cd4-40a540a80446",
   "metadata": {},
   "outputs": [],
   "source": [
    "# Create a new column for revenue\n",
    "df[\"Revenue\"] = df[\"Quantity Ordered\"] * df[\"Price Each\"]\n",
    "total_revenue = df[\"Revenue\"].sum()"
   ]
  },
  {
   "cell_type": "code",
   "execution_count": 17,
   "id": "f744b4fb-3bce-4e8e-bcf6-af58f5c7c393",
   "metadata": {},
   "outputs": [],
   "source": [
    "# Display total revenue\n",
    "df[\"Revenue\"] = df[\"Quantity Ordered\"] * df[\"Price Each\"]\n",
    "total_revenue = df[\"Revenue\"].sum()"
   ]
  },
  {
   "cell_type": "markdown",
   "id": "017d16b5-bdbc-4a74-a05d-36f4cc0f4aba",
   "metadata": {},
   "source": [
    "Note:** Revenue is calculated as Quantity × Price for each order."
   ]
  },
  {
   "cell_type": "markdown",
   "id": "80ef1207-9cd3-436d-8aa5-da8eafb767e9",
   "metadata": {},
   "source": [
    "__Top Selling Products__"
   ]
  },
  {
   "cell_type": "code",
   "execution_count": 23,
   "id": "2222c32f-b192-4315-9ed5-4698c59757f9",
   "metadata": {},
   "outputs": [
    {
     "data": {
      "text/plain": [
       "Product\n",
       "Keyboard    3\n",
       "Monitor     3\n",
       "Laptop      2\n",
       "Mouse       2\n",
       "Name: Quantity Ordered, dtype: int64"
      ]
     },
     "execution_count": 23,
     "metadata": {},
     "output_type": "execute_result"
    }
   ],
   "source": [
    "# Group data by product and sum the quantity ordered\n",
    "df.groupby(\"Product\")[\"Quantity Ordered\"].sum().sort_values(ascending=False)"
   ]
  },
  {
   "cell_type": "markdown",
   "id": "7e2cb50c-5b28-4439-ace0-8294b1d1c6c9",
   "metadata": {},
   "source": [
    "__Monthly Sales Analysis__"
   ]
  },
  {
   "cell_type": "code",
   "execution_count": 26,
   "id": "3a32d681-c32a-47e5-82b1-125446f9fe5c",
   "metadata": {},
   "outputs": [
    {
     "data": {
      "text/plain": [
       "Month\n",
       "1    1200.0\n",
       "2     750.0\n",
       "3    1250.0\n",
       "4     300.0\n",
       "Name: Revenue, dtype: float64"
      ]
     },
     "execution_count": 26,
     "metadata": {},
     "output_type": "execute_result"
    }
   ],
   "source": [
    "# Extract the month from the order date\n",
    "df[\"Month\"] = df[\"Order Date\"].dt.month\n",
    "\n",
    "# Group revenue by month\n",
    "monthly_sales = df.groupby(\"Month\")[\"Revenue\"].sum()\n",
    "monthly_sales"
   ]
  },
  {
   "cell_type": "markdown",
   "id": "0b4285a4-611c-4435-bcb9-58bbd13d9a25",
   "metadata": {},
   "source": [
    "__Calculating the Total Revenue__"
   ]
  },
  {
   "cell_type": "code",
   "execution_count": 49,
   "id": "6ee5ebef-8a59-453e-91cd-1087c1329567",
   "metadata": {},
   "outputs": [
    {
     "name": "stdout",
     "output_type": "stream",
     "text": [
      "Total Revenue: $3,500.00\n"
     ]
    }
   ],
   "source": [
    "# Calculate revenue for each order by multiplying quantity with price\n",
    "df[\"Revenue\"] = df[\"Quantity Ordered\"] * df[\"Price Each\"]\n",
    "\n",
    "# Sum up all the revenues to get the total revenue\n",
    "total_revenue = df[\"Revenue\"].sum()\n",
    "\n",
    "# Display the total revenue in a formatted string with commas and two decimal places\n",
    "print(f\"Total Revenue: ${total_revenue:,.2f}\")"
   ]
  },
  {
   "cell_type": "markdown",
   "id": "2357d4bc-0d6e-4566-afdb-41180b851bab",
   "metadata": {},
   "source": [
    "__Data Visualization__"
   ]
  },
  {
   "cell_type": "code",
   "execution_count": 41,
   "id": "a0608f1c-13da-41e4-876b-9c1bb6a5c1c6",
   "metadata": {
    "scrolled": true
   },
   "outputs": [
    {
     "data": {
      "image/png": "[encoded data removed]",
      "text/plain": [
       "<Figure size 1000x600 with 1 Axes>"
      ]
     },
     "metadata": {},
     "output_type": "display_data"
    }
   ],
   "source": [
    "# Plot monthly revenue\n",
    "plt.figure(figsize=(10,6))\n",
    "plt.plot(monthly_sales.index, monthly_sales.values, marker='o')\n",
    "plt.title(\"Monthly Revenue\")\n",
    "plt.xlabel(\"Month\")\n",
    "plt.ylabel(\"Revenue in USD\")\n",
    "plt.xticks(range(1,13))\n",
    "plt.grid(True)\n",
    "plt.tight_layout()\n",
    "plt.show()"
   ]
  },
  {
   "cell_type": "markdown",
   "id": "e9d85a08-5e25-46c8-aa92-22dfc44181da",
   "metadata": {},
   "source": [
    "## Project Summary\n",
    "\n",
    "- The company generated a total revenue of $3,500.00.\n",
    "- The highest-selling product(s) were identified based on quantity sold.\n",
    "- Monthly revenue trends show peak performance in months like January and March.\n",
    "\n",
    "These insights can help the business focus on high-performing products and prepare for high-sales periods.\n"
   ]
  }
 ],
 "metadata": {
  "kernelspec": {
   "display_name": "Python 3 (ipykernel)",
   "language": "python",
   "name": "python3"
  },
  "language_info": {
   "codemirror_mode": {
    "name": "ipython",
    "version": 3
   },
   "file_extension": ".py",
   "mimetype": "text/x-python",
   "name": "python",
   "nbconvert_exporter": "python",
   "pygments_lexer": "ipython3",
   "version": "3.12.4"
  }
 },
 "nbformat": 4,
 "nbformat_minor": 5
}

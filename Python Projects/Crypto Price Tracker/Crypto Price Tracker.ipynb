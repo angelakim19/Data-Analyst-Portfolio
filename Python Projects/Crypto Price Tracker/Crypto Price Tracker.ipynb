{
 "cells": [
  {
   "cell_type": "markdown",
   "id": "159eb635-782e-4975-9049-04c5949f4e5d",
   "metadata": {},
   "source": [
    "## CRYPTO PRICE TRACKER\n",
    "A crypto price tracker, is a real-time cryptocurrency tracker that fetches and visualizes the current prices and 24-hour price changes of the top 10 cryptocurrencies using public API data."
   ]
  },
  {
   "cell_type": "code",
   "execution_count": 1,
   "id": "d751dd0b-0fa5-4648-9030-be2e6a2fc11f",
   "metadata": {},
   "outputs": [],
   "source": [
    "#Import needed libraries\n",
    "\n",
    "#Data Handling\n",
    "import pandas as pd\n",
    "\n",
    "#For API requests\n",
    "import requests\n",
    "\n",
    "#For Visualization\n",
    "import matplotlib.pyplot as plt\n",
    "import seaborn as sns"
   ]
  },
  {
   "cell_type": "markdown",
   "id": "e95df244-b931-41ce-b731-161083451891",
   "metadata": {},
   "source": [
    "__Set Up the CoinGecko API Call__"
   ]
  },
  {
   "cell_type": "code",
   "execution_count": 6,
   "id": "9e29109c-6e09-47b1-9e9b-ba089e9b1ed1",
   "metadata": {},
   "outputs": [],
   "source": [
    "# Base URL for CoinGecko Market Data API\n",
    "url = \"https://api.coingecko.com/api/v3/coins/markets\""
   ]
  },
  {
   "cell_type": "code",
   "execution_count": 8,
   "id": "6b8d8858-fc35-42c3-9ac1-a3bb2554e52c",
   "metadata": {},
   "outputs": [],
   "source": [
    "# Set parameters to get top 10 coins in USD\n",
    "params = {\n",
    "    \"vs_currency\": \"usd\",              # Get prices in USD\n",
    "    \"order\": \"market_cap_desc\",        # Sort by highest market cap (top coins)\n",
    "    \"per_page\": 10,                    # Get only 10 coins\n",
    "    \"page\": 1,                         # First page of results\n",
    "    \"sparkline\": False                 # Don’t include sparkline (mini graph data)\n",
    "}"
   ]
  },
  {
   "cell_type": "code",
   "execution_count": 18,
   "id": "30eaeb97-b537-4544-8478-3be3b77cb195",
   "metadata": {},
   "outputs": [],
   "source": [
    "# Make the API request\n",
    "response = requests.get(url, params=params)"
   ]
  },
  {
   "cell_type": "code",
   "execution_count": 20,
   "id": "a73c375a-e7eb-4507-9020-610430392b20",
   "metadata": {},
   "outputs": [],
   "source": [
    "# Parse JSON response\n",
    "data = response.json()"
   ]
  },
  {
   "cell_type": "code",
   "execution_count": 22,
   "id": "7cd40d83-3f72-4b7e-8969-f37860142326",
   "metadata": {},
   "outputs": [],
   "source": [
    "# Convert JSON to DataFrame\n",
    "df = pd.DataFrame(data)"
   ]
  },
  {
   "cell_type": "code",
   "execution_count": 24,
   "id": "ca00393d-6a66-422a-ae80-3a6a17631c96",
   "metadata": {
    "scrolled": true
   },
   "outputs": [
    {
     "data": {
      "text/html": [
       "<div>\n",
       "<style scoped>\n",
       "    .dataframe tbody tr th:only-of-type {\n",
       "        vertical-align: middle;\n",
       "    }\n",
       "\n",
       "    .dataframe tbody tr th {\n",
       "        vertical-align: top;\n",
       "    }\n",
       "\n",
       "    .dataframe thead th {\n",
       "        text-align: right;\n",
       "    }\n",
       "</style>\n",
       "<table border=\"1\" class=\"dataframe\">\n",
       "  <thead>\n",
       "    <tr style=\"text-align: right;\">\n",
       "      <th></th>\n",
       "      <th>id</th>\n",
       "      <th>symbol</th>\n",
       "      <th>name</th>\n",
       "      <th>image</th>\n",
       "      <th>current_price</th>\n",
       "      <th>market_cap</th>\n",
       "      <th>market_cap_rank</th>\n",
       "      <th>fully_diluted_valuation</th>\n",
       "      <th>total_volume</th>\n",
       "      <th>high_24h</th>\n",
       "      <th>...</th>\n",
       "      <th>total_supply</th>\n",
       "      <th>max_supply</th>\n",
       "      <th>ath</th>\n",
       "      <th>ath_change_percentage</th>\n",
       "      <th>ath_date</th>\n",
       "      <th>atl</th>\n",
       "      <th>atl_change_percentage</th>\n",
       "      <th>atl_date</th>\n",
       "      <th>roi</th>\n",
       "      <th>last_updated</th>\n",
       "    </tr>\n",
       "  </thead>\n",
       "  <tbody>\n",
       "    <tr>\n",
       "      <th>0</th>\n",
       "      <td>bitcoin</td>\n",
       "      <td>btc</td>\n",
       "      <td>Bitcoin</td>\n",
       "      <td>https://coin-images.coingecko.com/coins/images...</td>\n",
       "      <td>116722.00</td>\n",
       "      <td>2323705899508</td>\n",
       "      <td>1</td>\n",
       "      <td>2323707650726</td>\n",
       "      <td>34032343335</td>\n",
       "      <td>117596.00</td>\n",
       "      <td>...</td>\n",
       "      <td>1.990364e+07</td>\n",
       "      <td>2.100000e+07</td>\n",
       "      <td>122838.00</td>\n",
       "      <td>-5.07505</td>\n",
       "      <td>2025-07-14T07:56:01.937Z</td>\n",
       "      <td>67.810000</td>\n",
       "      <td>1.718593e+05</td>\n",
       "      <td>2013-07-06T00:00:00.000Z</td>\n",
       "      <td>None</td>\n",
       "      <td>2025-08-08T13:33:42.751Z</td>\n",
       "    </tr>\n",
       "    <tr>\n",
       "      <th>1</th>\n",
       "      <td>ethereum</td>\n",
       "      <td>eth</td>\n",
       "      <td>Ethereum</td>\n",
       "      <td>https://coin-images.coingecko.com/coins/images...</td>\n",
       "      <td>3910.16</td>\n",
       "      <td>472175977473</td>\n",
       "      <td>2</td>\n",
       "      <td>472175977473</td>\n",
       "      <td>29165855768</td>\n",
       "      <td>3952.68</td>\n",
       "      <td>...</td>\n",
       "      <td>1.207092e+08</td>\n",
       "      <td>NaN</td>\n",
       "      <td>4878.26</td>\n",
       "      <td>-20.02873</td>\n",
       "      <td>2021-11-10T14:24:19.604Z</td>\n",
       "      <td>0.432979</td>\n",
       "      <td>9.009156e+05</td>\n",
       "      <td>2015-10-20T00:00:00.000Z</td>\n",
       "      <td>{'times': 43.78304729836662, 'currency': 'btc'...</td>\n",
       "      <td>2025-08-08T13:33:48.915Z</td>\n",
       "    </tr>\n",
       "    <tr>\n",
       "      <th>2</th>\n",
       "      <td>ripple</td>\n",
       "      <td>xrp</td>\n",
       "      <td>XRP</td>\n",
       "      <td>https://coin-images.coingecko.com/coins/images...</td>\n",
       "      <td>3.33</td>\n",
       "      <td>197331969494</td>\n",
       "      <td>3</td>\n",
       "      <td>332674889294</td>\n",
       "      <td>9592587047</td>\n",
       "      <td>3.37</td>\n",
       "      <td>...</td>\n",
       "      <td>9.998588e+10</td>\n",
       "      <td>1.000000e+11</td>\n",
       "      <td>3.65</td>\n",
       "      <td>-8.86547</td>\n",
       "      <td>2025-07-18T03:40:53.808Z</td>\n",
       "      <td>0.002686</td>\n",
       "      <td>1.236101e+05</td>\n",
       "      <td>2014-05-22T00:00:00.000Z</td>\n",
       "      <td>None</td>\n",
       "      <td>2025-08-08T13:33:39.762Z</td>\n",
       "    </tr>\n",
       "    <tr>\n",
       "      <th>3</th>\n",
       "      <td>tether</td>\n",
       "      <td>usdt</td>\n",
       "      <td>Tether</td>\n",
       "      <td>https://coin-images.coingecko.com/coins/images...</td>\n",
       "      <td>1.00</td>\n",
       "      <td>164372487278</td>\n",
       "      <td>4</td>\n",
       "      <td>164372487278</td>\n",
       "      <td>83179372035</td>\n",
       "      <td>1.00</td>\n",
       "      <td>...</td>\n",
       "      <td>1.643420e+11</td>\n",
       "      <td>NaN</td>\n",
       "      <td>1.32</td>\n",
       "      <td>-24.40638</td>\n",
       "      <td>2018-07-24T00:00:00.000Z</td>\n",
       "      <td>0.572521</td>\n",
       "      <td>7.469676e+01</td>\n",
       "      <td>2015-03-02T00:00:00.000Z</td>\n",
       "      <td>None</td>\n",
       "      <td>2025-08-08T13:33:41.082Z</td>\n",
       "    </tr>\n",
       "    <tr>\n",
       "      <th>4</th>\n",
       "      <td>binancecoin</td>\n",
       "      <td>bnb</td>\n",
       "      <td>BNB</td>\n",
       "      <td>https://coin-images.coingecko.com/coins/images...</td>\n",
       "      <td>787.79</td>\n",
       "      <td>109677638402</td>\n",
       "      <td>5</td>\n",
       "      <td>109677638402</td>\n",
       "      <td>1214052051</td>\n",
       "      <td>790.34</td>\n",
       "      <td>...</td>\n",
       "      <td>1.392881e+08</td>\n",
       "      <td>2.000000e+08</td>\n",
       "      <td>858.34</td>\n",
       "      <td>-8.31147</td>\n",
       "      <td>2025-07-28T09:36:43.658Z</td>\n",
       "      <td>0.039818</td>\n",
       "      <td>1.976401e+06</td>\n",
       "      <td>2017-10-19T00:00:00.000Z</td>\n",
       "      <td>None</td>\n",
       "      <td>2025-08-08T13:33:42.453Z</td>\n",
       "    </tr>\n",
       "  </tbody>\n",
       "</table>\n",
       "<p>5 rows × 26 columns</p>\n",
       "</div>"
      ],
      "text/plain": [
       "            id symbol      name  \\\n",
       "0      bitcoin    btc   Bitcoin   \n",
       "1     ethereum    eth  Ethereum   \n",
       "2       ripple    xrp       XRP   \n",
       "3       tether   usdt    Tether   \n",
       "4  binancecoin    bnb       BNB   \n",
       "\n",
       "                                               image  current_price  \\\n",
       "0  https://coin-images.coingecko.com/coins/images...      116722.00   \n",
       "1  https://coin-images.coingecko.com/coins/images...        3910.16   \n",
       "2  https://coin-images.coingecko.com/coins/images...           3.33   \n",
       "3  https://coin-images.coingecko.com/coins/images...           1.00   \n",
       "4  https://coin-images.coingecko.com/coins/images...         787.79   \n",
       "\n",
       "      market_cap  market_cap_rank  fully_diluted_valuation  total_volume  \\\n",
       "0  2323705899508                1            2323707650726   34032343335   \n",
       "1   472175977473                2             472175977473   29165855768   \n",
       "2   197331969494                3             332674889294    9592587047   \n",
       "3   164372487278                4             164372487278   83179372035   \n",
       "4   109677638402                5             109677638402    1214052051   \n",
       "\n",
       "    high_24h  ...  total_supply    max_supply        ath  \\\n",
       "0  117596.00  ...  1.990364e+07  2.100000e+07  122838.00   \n",
       "1    3952.68  ...  1.207092e+08           NaN    4878.26   \n",
       "2       3.37  ...  9.998588e+10  1.000000e+11       3.65   \n",
       "3       1.00  ...  1.643420e+11           NaN       1.32   \n",
       "4     790.34  ...  1.392881e+08  2.000000e+08     858.34   \n",
       "\n",
       "   ath_change_percentage                  ath_date        atl  \\\n",
       "0               -5.07505  2025-07-14T07:56:01.937Z  67.810000   \n",
       "1              -20.02873  2021-11-10T14:24:19.604Z   0.432979   \n",
       "2               -8.86547  2025-07-18T03:40:53.808Z   0.002686   \n",
       "3              -24.40638  2018-07-24T00:00:00.000Z   0.572521   \n",
       "4               -8.31147  2025-07-28T09:36:43.658Z   0.039818   \n",
       "\n",
       "   atl_change_percentage                  atl_date  \\\n",
       "0           1.718593e+05  2013-07-06T00:00:00.000Z   \n",
       "1           9.009156e+05  2015-10-20T00:00:00.000Z   \n",
       "2           1.236101e+05  2014-05-22T00:00:00.000Z   \n",
       "3           7.469676e+01  2015-03-02T00:00:00.000Z   \n",
       "4           1.976401e+06  2017-10-19T00:00:00.000Z   \n",
       "\n",
       "                                                 roi              last_updated  \n",
       "0                                               None  2025-08-08T13:33:42.751Z  \n",
       "1  {'times': 43.78304729836662, 'currency': 'btc'...  2025-08-08T13:33:48.915Z  \n",
       "2                                               None  2025-08-08T13:33:39.762Z  \n",
       "3                                               None  2025-08-08T13:33:41.082Z  \n",
       "4                                               None  2025-08-08T13:33:42.453Z  \n",
       "\n",
       "[5 rows x 26 columns]"
      ]
     },
     "execution_count": 24,
     "metadata": {},
     "output_type": "execute_result"
    }
   ],
   "source": [
    "# Preview the data\n",
    "df.head()"
   ]
  },
  {
   "cell_type": "markdown",
   "id": "40123d97-53b5-4b8f-b009-9cfdde4be11d",
   "metadata": {},
   "source": [
    "__Cleaning and Formatting the Data__"
   ]
  },
  {
   "cell_type": "code",
   "execution_count": 35,
   "id": "574fdfea-c5db-4894-bee6-0bd2bf2eddc9",
   "metadata": {},
   "outputs": [],
   "source": [
    "# Keep only important columns\n",
    "df = df[[\n",
    "    \"id\",\n",
    "    \"symbol\",\n",
    "    \"name\",\n",
    "    \"current_price\",\n",
    "    \"market_cap\",\n",
    "    \"price_change_percentage_24h\"\n",
    "]]"
   ]
  },
  {
   "cell_type": "code",
   "execution_count": 37,
   "id": "a8be7597-d431-4411-ac65-88ceffe75fb3",
   "metadata": {},
   "outputs": [],
   "source": [
    "# Rename columns for clarity\n",
    "df.columns = [\n",
    "    \"ID\", \"Symbol\", \"Name\", \"Current Price (USD)\",\n",
    "    \"Market Cap (USD)\", \"24h Change (%)\"\n",
    "]"
   ]
  },
  {
   "cell_type": "code",
   "execution_count": 39,
   "id": "38f7ecf4-6093-4e79-9687-df2a2073197f",
   "metadata": {},
   "outputs": [
    {
     "data": {
      "text/html": [
       "<div>\n",
       "<style scoped>\n",
       "    .dataframe tbody tr th:only-of-type {\n",
       "        vertical-align: middle;\n",
       "    }\n",
       "\n",
       "    .dataframe tbody tr th {\n",
       "        vertical-align: top;\n",
       "    }\n",
       "\n",
       "    .dataframe thead th {\n",
       "        text-align: right;\n",
       "    }\n",
       "</style>\n",
       "<table border=\"1\" class=\"dataframe\">\n",
       "  <thead>\n",
       "    <tr style=\"text-align: right;\">\n",
       "      <th></th>\n",
       "      <th>ID</th>\n",
       "      <th>Symbol</th>\n",
       "      <th>Name</th>\n",
       "      <th>Current Price (USD)</th>\n",
       "      <th>Market Cap (USD)</th>\n",
       "      <th>24h Change (%)</th>\n",
       "    </tr>\n",
       "  </thead>\n",
       "  <tbody>\n",
       "    <tr>\n",
       "      <th>0</th>\n",
       "      <td>bitcoin</td>\n",
       "      <td>btc</td>\n",
       "      <td>Bitcoin</td>\n",
       "      <td>116722.00</td>\n",
       "      <td>2323705899508</td>\n",
       "      <td>0.28073</td>\n",
       "    </tr>\n",
       "    <tr>\n",
       "      <th>1</th>\n",
       "      <td>ethereum</td>\n",
       "      <td>eth</td>\n",
       "      <td>Ethereum</td>\n",
       "      <td>3910.16</td>\n",
       "      <td>472175977473</td>\n",
       "      <td>1.99585</td>\n",
       "    </tr>\n",
       "    <tr>\n",
       "      <th>2</th>\n",
       "      <td>ripple</td>\n",
       "      <td>xrp</td>\n",
       "      <td>XRP</td>\n",
       "      <td>3.33</td>\n",
       "      <td>197331969494</td>\n",
       "      <td>8.31845</td>\n",
       "    </tr>\n",
       "    <tr>\n",
       "      <th>3</th>\n",
       "      <td>tether</td>\n",
       "      <td>usdt</td>\n",
       "      <td>Tether</td>\n",
       "      <td>1.00</td>\n",
       "      <td>164372487278</td>\n",
       "      <td>0.01702</td>\n",
       "    </tr>\n",
       "    <tr>\n",
       "      <th>4</th>\n",
       "      <td>binancecoin</td>\n",
       "      <td>bnb</td>\n",
       "      <td>BNB</td>\n",
       "      <td>787.79</td>\n",
       "      <td>109677638402</td>\n",
       "      <td>1.52267</td>\n",
       "    </tr>\n",
       "  </tbody>\n",
       "</table>\n",
       "</div>"
      ],
      "text/plain": [
       "            ID Symbol      Name  Current Price (USD)  Market Cap (USD)  \\\n",
       "0      bitcoin    btc   Bitcoin            116722.00     2323705899508   \n",
       "1     ethereum    eth  Ethereum              3910.16      472175977473   \n",
       "2       ripple    xrp       XRP                 3.33      197331969494   \n",
       "3       tether   usdt    Tether                 1.00      164372487278   \n",
       "4  binancecoin    bnb       BNB               787.79      109677638402   \n",
       "\n",
       "   24h Change (%)  \n",
       "0         0.28073  \n",
       "1         1.99585  \n",
       "2         8.31845  \n",
       "3         0.01702  \n",
       "4         1.52267  "
      ]
     },
     "execution_count": 39,
     "metadata": {},
     "output_type": "execute_result"
    }
   ],
   "source": [
    "# Show cleaned DataFrame\n",
    "df.head()"
   ]
  },
  {
   "cell_type": "code",
   "execution_count": null,
   "id": "20649991-5c9f-45c1-beff-6c3bd96564d4",
   "metadata": {},
   "outputs": [],
   "source": []
  },
  {
   "cell_type": "markdown",
   "id": "c8a47e2f-838f-40c1-9a16-589f8eb386c4",
   "metadata": {},
   "source": [
    "__Extracting Market Insights__"
   ]
  },
  {
   "cell_type": "code",
   "execution_count": 41,
   "id": "a6fd30c4-4d9d-4742-8efb-4265097854e3",
   "metadata": {
    "scrolled": true
   },
   "outputs": [
    {
     "name": "stdout",
     "output_type": "stream",
     "text": [
      "🔝 Top by Price:\n",
      "              ID Symbol               Name  Current Price (USD)  \\\n",
      "0       bitcoin    btc            Bitcoin            116722.00   \n",
      "1      ethereum    eth           Ethereum              3910.16   \n",
      "7  staked-ether  steth  Lido Staked Ether              3905.93   \n",
      "\n",
      "   Market Cap (USD)  24h Change (%)  \n",
      "0     2323705899508         0.28073  \n",
      "1      472175977473         1.99585  \n",
      "7       34672540079         1.91743  \n",
      "\n",
      "📈 Top Gainers:\n",
      "          ID Symbol      Name  Current Price (USD)  Market Cap (USD)  \\\n",
      "2    ripple    xrp       XRP             3.330000      197331969494   \n",
      "8  dogecoin   doge  Dogecoin             0.223087       33573911589   \n",
      "5    solana    sol    Solana           176.410000       95149801582   \n",
      "\n",
      "   24h Change (%)  \n",
      "2         8.31845  \n",
      "8         3.95282  \n",
      "5         2.52118  \n",
      "\n",
      "📉 Top Losers:\n",
      "          ID Symbol    Name  Current Price (USD)  Market Cap (USD)  \\\n",
      "9      tron    trx    TRON             0.339051       32116293298   \n",
      "6  usd-coin   usdc    USDC             0.999780       64654293511   \n",
      "3    tether   usdt  Tether             1.000000      164372487278   \n",
      "\n",
      "   24h Change (%)  \n",
      "9        -0.01282  \n",
      "6        -0.00067  \n",
      "3         0.01702  \n"
     ]
    }
   ],
   "source": [
    "# Get top 3 cryptocurrencies by current price\n",
    "top_by_price = df.sort_values(by=\"Current Price (USD)\", ascending=False).head(3)\n",
    "\n",
    "# Get top 3 gainers (highest % change in last 24h)\n",
    "top_gainers = df.sort_values(by=\"24h Change (%)\", ascending=False).head(3)\n",
    "\n",
    "# Get top 3 losers (lowest % change in last 24h)\n",
    "top_losers = df.sort_values(by=\"24h Change (%)\", ascending=True).head(3)\n",
    "\n",
    "# Display results\n",
    "print(\"🔝 Top by Price:\\n\", top_by_price)\n",
    "print(\"\\n📈 Top Gainers:\\n\", top_gainers)\n",
    "print(\"\\n📉 Top Losers:\\n\", top_losers)"
   ]
  },
  {
   "cell_type": "markdown",
   "id": "a42afe0c-f85c-426a-8323-27b4d2dfbe8e",
   "metadata": {},
   "source": [
    "__Visualizing Price and Market Trends__"
   ]
  },
  {
   "cell_type": "code",
   "execution_count": 55,
   "id": "e46e0155-30c8-4366-8a23-385617d5d11e",
   "metadata": {},
   "outputs": [
    {
     "data": {
      "image/png": "[encoded data removed]",
      "text/plain": [
       "<Figure size 1000x500 with 1 Axes>"
      ]
     },
     "metadata": {},
     "output_type": "display_data"
    },
    {
     "data": {
      "image/png": "[encoded data removed]",
      "text/plain": [
       "<Figure size 1000x500 with 1 Axes>"
      ]
     },
     "metadata": {},
     "output_type": "display_data"
    }
   ],
   "source": [
    "# Set plot style\n",
    "plt.style.use('ggplot')\n",
    "\n",
    "# Plot the current price of each crypto\n",
    "plt.figure(figsize=(10, 5))\n",
    "sns.barplot(x=\"Symbol\", y=\"Current Price (USD)\", data=df)\n",
    "plt.title(\"Current Prices of Top 10 Cryptocurrencies\")\n",
    "plt.ylabel(\"Price in USD\")\n",
    "plt.show()\n",
    "\n",
    "# Plot 24h price change percentage\n",
    "plt.figure(figsize=(10, 5))\n",
    "sns.barplot(x=\"Symbol\", y=\"24h Change (%)\", data=df)\n",
    "plt.title(\"24h Price Change (%) of Top 10 Cryptocurrencies\")\n",
    "plt.ylabel(\"Percent Change\")\n",
    "plt.axhline(0, color='black', linestyle='--')  # horizontal line at 0%\n",
    "plt.show()"
   ]
  },
  {
   "cell_type": "markdown",
   "id": "ad0a5f0b-2fe7-43f7-bf33-414f62cbdf0b",
   "metadata": {},
   "source": [
    "## Project Summary\n",
    "This project retrieves live cryptocurrency data, processes it using Pandas, and creates visual insights with Matplotlib. The bar charts highlight the USD prices of the top cryptocurrencies and their respective 24-hour percentage changes, enabling quick market trend assessment. The approach provides a foundation for further development into automated alerts, historical analysis, or trading decision-support tools."
   ]
  }
 ],
 "metadata": {
  "kernelspec": {
   "display_name": "Python 3 (ipykernel)",
   "language": "python",
   "name": "python3"
  },
  "language_info": {
   "codemirror_mode": {
    "name": "ipython",
    "version": 3
   },
   "file_extension": ".py",
   "mimetype": "text/x-python",
   "name": "python",
   "nbconvert_exporter": "python",
   "pygments_lexer": "ipython3",
   "version": "3.12.4"
  }
 },
 "nbformat": 4,
 "nbformat_minor": 5
}

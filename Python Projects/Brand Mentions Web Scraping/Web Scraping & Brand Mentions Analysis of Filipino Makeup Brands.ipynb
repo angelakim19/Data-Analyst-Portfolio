{
 "cells": [
  {
   "cell_type": "markdown",
   "id": "2bb8cf89-d89f-4d31-ac28-176c584a29e6",
   "metadata": {},
   "source": [
    "## Web Scraping & Brand Mentions Analysis: Filipino Makeup Brands in ABS-CBN Article\n",
    "This project uses web scraping with BeautifulSoup to extract text from an ABS-CBN article about Filipino makeup brands. It counts how many times each brand is mentioned and visualizes the results in a horizontal bar chart. The analysis highlights which brands are most frequently featured in the article."
   ]
  },
  {
   "cell_type": "code",
   "execution_count": 4,
   "id": "7d60bb64-ee79-4ee5-8316-54787d45515c",
   "metadata": {},
   "outputs": [],
   "source": [
    "from bs4 import BeautifulSoup\n",
    "import pandas as pd\n",
    "import matplotlib.pyplot as plt"
   ]
  },
  {
   "cell_type": "code",
   "execution_count": 6,
   "id": "87ea7783-d4cb-40dc-bb5e-95fe74c53824",
   "metadata": {},
   "outputs": [
    {
     "name": "stdout",
     "output_type": "stream",
     "text": [
      "Influencers’ picks from Filipino makeup brands for your kikay loved ones this V-day | ABS-CBN Lifestyle\n"
     ]
    }
   ],
   "source": [
    "# Load local HTML file of the ABS-CBN article\n",
    "with open(\"C:\\\\Users\\\\ACER\\\\Downloads\\\\Data Analytics\\\\Python\\\\Project\\\\Dataset\\\\influencers-pick-ph-makeup-brands.html\", \"r\", encoding=\"utf-8\") as file:\n",
    "    soup = BeautifulSoup(file, \"html.parser\")\n",
    "# Display the title of the webpage\n",
    "print(soup.title.text)"
   ]
  },
  {
   "cell_type": "markdown",
   "id": "fdb8ad1e-3ccc-4a79-8180-209a21cd7432",
   "metadata": {},
   "source": [
    "__Inspecting HTML Structure__"
   ]
  },
  {
   "cell_type": "code",
   "execution_count": 9,
   "id": "f985d6bb-4976-4a64-b8f9-90a6362b9c9f",
   "metadata": {},
   "outputs": [
    {
     "name": "stdout",
     "output_type": "stream",
     "text": [
      "None\n",
      "None\n",
      "['MuiGrid-root', 'MuiGrid-container', 'css-1u3t278']\n",
      "['MuiGrid-root', 'MuiGrid-item', 'MuiGrid-grid-xs-12', 'MuiGrid-grid-md-12', 'css-15j76c0']\n",
      "None\n",
      "['MuiGrid-root', 'MuiGrid-container', 'MuiGrid-spacing-xs-2', 'css-isbt42']\n",
      "['MuiGrid-root', 'MuiGrid-item', 'MuiGrid-grid-xs-12', 'MuiGrid-grid-md-12', 'css-15j76c0']\n",
      "['imp-adSlot-common', 'imp-adSlot-0']\n",
      "['MuiGrid-root', 'MuiGrid-item', 'MuiGrid-grid-xs-12', 'MuiGrid-grid-md-12', 'css-15j76c0']\n",
      "None\n",
      "['MuiGrid-root', 'MuiGrid-container', 'MuiGrid-spacing-xs-2', 'css-isbt42']\n",
      "['MuiGrid-root', 'MuiGrid-item', 'MuiGrid-grid-xs-12', 'MuiGrid-grid-md-12', 'css-15j76c0']\n",
      "['MuiBox-root', 'css-11f6pqh']\n",
      "None\n",
      "['MuiBox-root', 'css-inxrad']\n",
      "['MuiGrid-root', 'css-v4fugb']\n",
      "['MuiGrid-root', 'MuiGrid-container', 'css-1un1tya']\n",
      "['MuiBox-root', 'css-yj0oh0']\n",
      "['MuiBox-root', 'css-gmuwbf']\n",
      "['MuiBox-root', 'css-yb8nba']\n"
     ]
    }
   ],
   "source": [
    "# Print out the first few <div> elements and their class name to understand HTML structure\n",
    "for div in soup.find_all('div', limit=20):\n",
    "    print(div.get('class'))"
   ]
  },
  {
   "cell_type": "code",
   "execution_count": 11,
   "id": "ca454388-4fb9-4075-a4ba-30dc4c0b2646",
   "metadata": {},
   "outputs": [
    {
     "name": "stdout",
     "output_type": "stream",
     "text": [
      "Main content container not found. Extracting full text instead.\n"
     ]
    }
   ],
   "source": [
    "# Attempt to locate main content container\n",
    "main_content = soup.find('div', class_='text-wrapper')\n",
    "\n",
    "if main_content:\n",
    "    article_text = main_content.get_text(separator=' ', strip=True)\n",
    "    print(article_text[:500])  # Preview first 500 characters\n",
    "else:\n",
    "    print(\"Main content container not found. Extracting full text instead.\")"
   ]
  },
  {
   "cell_type": "code",
   "execution_count": 15,
   "id": "2a6cf5ff-ad10-4671-8efd-c1dd4bbf1256",
   "metadata": {},
   "outputs": [
    {
     "name": "stdout",
     "output_type": "stream",
     "text": [
      "Influencers’ picks from Filipino makeup brands for your kikay loved ones this V-day | ABS-CBN Lifestyle Influencers’ picks from Filipino makeup brands for your kikay loved ones this V-day Entertainment News Metro.Style Lifestyle Sports More Traffic 31 ° C Manila Horoscope Featured : Marcos won't release unverified list of individuals behind flood control mess: Palace Word of the Day for August 6, 2025: abunas FIBA: Rude welcome for Gilas vs. Chinese Taipei in Asia Cup opener House revives Quad Comm with adoption of House Resolution 106 What to expect at Aug 6 Senate impeachment debates 'Extortion': Metro Manila areas face complaints over excessive parking charges Marcos strikes defense deals in India LOTTO RESULTS: Agosto 5, 2025 Misamis Occidental church temporarily closes after vlogger spits on holy water font • • • • • • • • • ADVERTISEMENT Featured : Marcos won't release unverified list of individuals behind flood control mess: Palace Word of the Day for August 6, 2025: abunas FIBA\n"
     ]
    }
   ],
   "source": [
    "#Extracting all the text\n",
    "article_text = soup.get_text(separator=' ', strip=True)\n",
    "print(article_text[:1000])"
   ]
  },
  {
   "cell_type": "markdown",
   "id": "54f64316-be7f-409c-8044-2c9d26f462c3",
   "metadata": {},
   "source": [
    "__Brand List for Analysis__: \n",
    "Define a list of popular **Filipino makeup brands** to search for within the article text."
   ]
  },
  {
   "cell_type": "code",
   "execution_count": 22,
   "id": "cc4a9ee1-2a64-4c0d-895a-e07adefc10e2",
   "metadata": {},
   "outputs": [],
   "source": [
    "# List of Filipino beauty brands\n",
    "brands = [\n",
    "    \"Colourette\", \"GRWM\", \"Vice\", \"Ever Bilena\", \"Issy\", \"Happy Skin\",\n",
    "    \"BLK\", \"Careline\", \"Detail Cosmetics\", \"Sunnies Face\", \"Fresh Formula\"\n",
    "]"
   ]
  },
  {
   "cell_type": "markdown",
   "id": "75aa17c3-b542-4b23-8229-53426f1e94d7",
   "metadata": {},
   "source": [
    "__Counting Brand Mentions__"
   ]
  },
  {
   "cell_type": "code",
   "execution_count": 24,
   "id": "4f85acfa-0b1b-47ab-b584-66b16b6d6f01",
   "metadata": {},
   "outputs": [
    {
     "data": {
      "text/html": [
       "<div>\n",
       "<style scoped>\n",
       "    .dataframe tbody tr th:only-of-type {\n",
       "        vertical-align: middle;\n",
       "    }\n",
       "\n",
       "    .dataframe tbody tr th {\n",
       "        vertical-align: top;\n",
       "    }\n",
       "\n",
       "    .dataframe thead th {\n",
       "        text-align: right;\n",
       "    }\n",
       "</style>\n",
       "<table border=\"1\" class=\"dataframe\">\n",
       "  <thead>\n",
       "    <tr style=\"text-align: right;\">\n",
       "      <th></th>\n",
       "      <th>Brand</th>\n",
       "      <th>Mentions</th>\n",
       "    </tr>\n",
       "  </thead>\n",
       "  <tbody>\n",
       "    <tr>\n",
       "      <th>2</th>\n",
       "      <td>Vice</td>\n",
       "      <td>5</td>\n",
       "    </tr>\n",
       "    <tr>\n",
       "      <th>1</th>\n",
       "      <td>GRWM</td>\n",
       "      <td>3</td>\n",
       "    </tr>\n",
       "    <tr>\n",
       "      <th>4</th>\n",
       "      <td>Issy</td>\n",
       "      <td>2</td>\n",
       "    </tr>\n",
       "    <tr>\n",
       "      <th>0</th>\n",
       "      <td>Colourette</td>\n",
       "      <td>1</td>\n",
       "    </tr>\n",
       "    <tr>\n",
       "      <th>5</th>\n",
       "      <td>Happy Skin</td>\n",
       "      <td>1</td>\n",
       "    </tr>\n",
       "    <tr>\n",
       "      <th>8</th>\n",
       "      <td>Detail Cosmetics</td>\n",
       "      <td>1</td>\n",
       "    </tr>\n",
       "    <tr>\n",
       "      <th>3</th>\n",
       "      <td>Ever Bilena</td>\n",
       "      <td>0</td>\n",
       "    </tr>\n",
       "    <tr>\n",
       "      <th>6</th>\n",
       "      <td>BLK</td>\n",
       "      <td>0</td>\n",
       "    </tr>\n",
       "    <tr>\n",
       "      <th>7</th>\n",
       "      <td>Careline</td>\n",
       "      <td>0</td>\n",
       "    </tr>\n",
       "    <tr>\n",
       "      <th>9</th>\n",
       "      <td>Sunnies Face</td>\n",
       "      <td>0</td>\n",
       "    </tr>\n",
       "    <tr>\n",
       "      <th>10</th>\n",
       "      <td>Fresh Formula</td>\n",
       "      <td>0</td>\n",
       "    </tr>\n",
       "  </tbody>\n",
       "</table>\n",
       "</div>"
      ],
      "text/plain": [
       "               Brand  Mentions\n",
       "2               Vice         5\n",
       "1               GRWM         3\n",
       "4               Issy         2\n",
       "0         Colourette         1\n",
       "5         Happy Skin         1\n",
       "8   Detail Cosmetics         1\n",
       "3        Ever Bilena         0\n",
       "6                BLK         0\n",
       "7           Careline         0\n",
       "9       Sunnies Face         0\n",
       "10     Fresh Formula         0"
      ]
     },
     "execution_count": 24,
     "metadata": {},
     "output_type": "execute_result"
    }
   ],
   "source": [
    "# Count occurrences of each brand\n",
    "brand_counts = {\n",
    "    brand: article_text.lower().count(brand.lower()) for brand in brands\n",
    "}\n",
    "\n",
    "# Convert to DataFrame for easier viewing\n",
    "df_brands = pd.DataFrame(list(brand_counts.items()), columns=[\"Brand\", \"Mentions\"])\n",
    "\n",
    "# Sort from most to least mentions\n",
    "df_brands = df_brands.sort_values(by=\"Mentions\", ascending=False)\n",
    "\n",
    "df_brands"
   ]
  },
  {
   "cell_type": "markdown",
   "id": "3a555a9c-db4f-4960-bf9b-eb74b9474ce4",
   "metadata": {},
   "source": [
    "__Visualization of Brand Mentions__"
   ]
  },
  {
   "cell_type": "code",
   "execution_count": 77,
   "id": "f2964348-1767-45d2-93a3-7dbe27c0e8b7",
   "metadata": {},
   "outputs": [
    {
     "data": {
      "image/png": "[encoded data removed]",
      "text/plain": [
       "<Figure size 1000x600 with 1 Axes>"
      ]
     },
     "metadata": {},
     "output_type": "display_data"
    }
   ],
   "source": [
    "#Visualizing the data\n",
    "plt.figure(figsize=(10, 6))\n",
    "plt.barh(df_brands[\"Brand\"], df_brands[\"Mentions\"])\n",
    "plt.xlabel(\"Number of Mentions\")\n",
    "plt.title(\"Makeup Brand Mentions in ABS-CBN Article\")\n",
    "plt.gca().invert_yaxis()\n",
    "plt.show()"
   ]
  },
  {
   "cell_type": "markdown",
   "id": "0782aeb6-6e6f-4853-98b3-d3076e3ac925",
   "metadata": {},
   "source": [
    "## Project Summary\n",
    "This analysis reveals that the **Filipino makeup brand** that received the most exposure in the article is Vice Cosmetics. \n",
    "This brand with more mentions may have stronger visibility or relevance in the current beauty trends discussed by influencers in the article."
   ]
  }
 ],
 "metadata": {
  "kernelspec": {
   "display_name": "Python 3 (ipykernel)",
   "language": "python",
   "name": "python3"
  },
  "language_info": {
   "codemirror_mode": {
    "name": "ipython",
    "version": 3
   },
   "file_extension": ".py",
   "mimetype": "text/x-python",
   "name": "python",
   "nbconvert_exporter": "python",
   "pygments_lexer": "ipython3",
   "version": "3.12.4"
  }
 },
 "nbformat": 4,
 "nbformat_minor": 5
}
